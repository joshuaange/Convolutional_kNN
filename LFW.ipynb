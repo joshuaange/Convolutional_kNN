{
 "cells": [
  {
   "cell_type": "code",
   "execution_count": 47,
   "id": "0b646b31-885d-47bf-bb35-2028aa3f6ea7",
   "metadata": {},
   "outputs": [],
   "source": [
    "import numpy as np\n",
    "from sklearn.model_selection import train_test_split\n",
    "from sklearn.metrics import confusion_matrix\n",
    "from sklearn.neighbors import NearestNeighbors\n",
    "from scipy import stats as st\n",
    "import matplotlib.pyplot as plt"
   ]
  },
  {
   "cell_type": "code",
   "execution_count": 85,
   "id": "571032af-3afd-4d0a-9d7f-5bf37d790e65",
   "metadata": {},
   "outputs": [
    {
     "name": "stdout",
     "output_type": "stream",
     "text": [
      "Total data points, x pixels, y pixels, color channels\n",
      "(4503, 125, 94, 3)\n",
      "(3377, 35250)\n"
     ]
    }
   ],
   "source": [
    "from sklearn.datasets import fetch_lfw_people\n",
    "color = True\n",
    "people = fetch_lfw_people(min_faces_per_person=8, resize=1, color=color)\n",
    "\n",
    "x = people.data \n",
    "y = people.target\n",
    "\n",
    "x_train, x_test, y_train, y_test = train_test_split(x, y, train_size=0.75)\n",
    "\n",
    "print(\"Total data points, x pixels, y pixels, color channels\")\n",
    "print(people.images.shape)\n",
    "print(x_train.shape)"
   ]
  },
  {
   "cell_type": "code",
   "execution_count": 85,
   "id": "080021d6-8f22-4d85-94d6-141d01c431c8",
   "metadata": {},
   "outputs": [
    {
     "name": "stdout",
     "output_type": "stream",
     "text": [
      "Picking 100 nearest neighbors, a total of 3377 training points with 8742 dimensions\n"
     ]
    }
   ],
   "source": [
    "# kNN\n",
    "k=100\n",
    "model = NearestNeighbors(n_neighbors=k)\n",
    "model.fit(x_train,y_train)\n",
    "test_neighbors = model.kneighbors_graph(x_test)\n",
    "print(\"Picking \" + str(k) + \" nearest neighbors, a total of \" + str(x_train.shape[0]) + \" training points with \" + str(x_train.shape[1]) + \" dimensions\")"
   ]
  },
  {
   "cell_type": "code",
   "execution_count": 86,
   "id": "5a662d74-c4d9-48c3-9ce5-a8611332030c",
   "metadata": {},
   "outputs": [
    {
     "name": "stdout",
     "output_type": "stream",
     "text": [
      "Total number of test points: 1126\n",
      "i=0\n",
      "i=50\n",
      "i=100\n",
      "i=150\n",
      "i=200\n",
      "i=250\n",
      "i=300\n",
      "i=350\n",
      "i=400\n",
      "i=450\n",
      "i=500\n",
      "i=550\n",
      "i=600\n",
      "i=650\n",
      "i=700\n",
      "i=750\n",
      "i=800\n",
      "i=850\n",
      "i=900\n",
      "i=950\n",
      "i=1000\n",
      "i=1050\n",
      "i=1100\n",
      "Done!\n"
     ]
    }
   ],
   "source": [
    "# test_nearest_neighbors looks through test_neighbors and gets the classifications of the k nearest ones\n",
    "test_nearest_neighbors = np.empty((y_test.shape[0],k))\n",
    "# y_pred gets the mode of the nearest neighbors\n",
    "y_pred = np.empty((y_test.shape[0],1))\n",
    "\n",
    "print(\"Total number of test points: \" + str(x_test.shape[0]))\n",
    "for i in range(x_test.shape[0]):\n",
    "    if i%50 == 0:\n",
    "        print(\"i=\" + str(i))\n",
    "    test_nearest_neighbors[i] = y_train[np.nonzero(test_neighbors.toarray()[i])]\n",
    "    y_pred[i] = int(st.mode(test_nearest_neighbors[i], keepdims=True).mode)\n",
    "\n",
    "print(\"Done!\")"
   ]
  },
  {
   "cell_type": "code",
   "execution_count": 87,
   "id": "3dd24197-58dc-40f3-8655-4a51d63aa98f",
   "metadata": {},
   "outputs": [
    {
     "name": "stdout",
     "output_type": "stream",
     "text": [
      "[[0 0 0 ... 0 0 0]\n",
      " [0 0 0 ... 0 0 0]\n",
      " [0 0 1 ... 0 0 0]\n",
      " ...\n",
      " [0 0 0 ... 0 0 0]\n",
      " [0 0 0 ... 0 0 0]\n",
      " [0 0 0 ... 0 0 0]]\n",
      "Accuracy: 16.7%\n"
     ]
    }
   ],
   "source": [
    "conf_matrix = confusion_matrix(y_test, y_pred)\n",
    "print(conf_matrix)\n",
    "print(\"Accuracy: \" + str(np.round(100*conf_matrix.trace()/conf_matrix.sum(),2)) + \"%\")"
   ]
  },
  {
   "cell_type": "code",
   "execution_count": 71,
   "id": "bef6a6ce-db4e-4cd4-b210-2e336c2fe16f",
   "metadata": {},
   "outputs": [],
   "source": [
    "# GRAYSCALE\n",
    "from PIL import Image\n",
    "import scipy\n",
    "\n",
    "# Let's pick one image\n",
    "x_pixels = people.images.shape[1]\n",
    "y_pixels = people.images.shape[2]\n",
    "selected_image = np.empty((x_pixels,y_pixels))\n",
    "num = 255\n",
    "index = 0\n",
    "for i in range(x_pixels):\n",
    "    for j in range(y_pixels):\n",
    "        selected_image[i][j] = 255*x_train[num][index]\n",
    "        index += 1\n",
    "\n",
    "# And print it\n",
    "image = Image.fromarray(np.array(selected_image, dtype=np.uint8), mode=\"P\")\n",
    "image.save('original.png')\n",
    "\n",
    "# Let's use a sharpen kernel\n",
    "kernel = np.array([[0, -2, 0], \n",
    "                    [-2, 9, -2], \n",
    "                    [0, -2, 0]])\n",
    "convolved_image = scipy.signal.convolve2d(selected_image,kernel)\n",
    "\n",
    "# And print it\n",
    "image = Image.fromarray(np.array(convolved_image, dtype=np.uint8), mode=\"P\")\n",
    "image.save('convolved.png')"
   ]
  },
  {
   "cell_type": "code",
   "execution_count": 96,
   "id": "37d8ed6a-d137-4501-aa14-35a95c898c93",
   "metadata": {},
   "outputs": [],
   "source": [
    "# COLOR\n",
    "from PIL import Image\n",
    "import scipy\n",
    "\n",
    "# Let's pick one image\n",
    "x_pixels = people.images.shape[1]\n",
    "y_pixels = people.images.shape[2]\n",
    "selected_image = np.empty((x_pixels,y_pixels,3))\n",
    "selected_image_r = np.empty((x_pixels,y_pixels))\n",
    "selected_image_g = np.empty((x_pixels,y_pixels))\n",
    "selected_image_b = np.empty((x_pixels,y_pixels))\n",
    "num = 255\n",
    "index = 0\n",
    "for i in range(x_pixels):\n",
    "    for j in range(y_pixels):\n",
    "        selected_image_r[i][j] = 255*x_train[num][index+0]\n",
    "        selected_image_g[i][j] = 255*x_train[num][index+1]\n",
    "        selected_image_b[i][j] = 255*x_train[num][index+2]\n",
    "        selected_image[i][j][0] = 255*x_train[num][index+0]\n",
    "        selected_image[i][j][1] = 255*x_train[num][index+1]\n",
    "        selected_image[i][j][2] = 255*x_train[num][index+2]\n",
    "        index += 3\n",
    "\n",
    "# And print it\n",
    "image = Image.fromarray(np.array(selected_image, dtype=np.uint8), mode=\"RGB\")\n",
    "image.save('original.png')\n",
    "\n",
    "# Let's use a blur kernel\n",
    "convolved_image = np.empty((x_pixels,y_pixels,3))\n",
    "kernel_r = np.array([[0.04, 0.04, 0.04, 0.04, 0.04], \n",
    "                     [0.04, 0.04, 0.04, 0.04, 0.04], \n",
    "                     [0.04, 0.04, 0.04, 0.04, 0.04], \n",
    "                     [0.04, 0.04, 0.04, 0.04, 0.04], \n",
    "                     [0.04, 0.04, 0.04, 0.04, 0.04]])\n",
    "kernel_g = np.array([[0.04, 0.04, 0.04, 0.04, 0.04], \n",
    "                     [0.04, 0.04, 0.04, 0.04, 0.04], \n",
    "                     [0.04, 0.04, 0.04, 0.04, 0.04], \n",
    "                     [0.04, 0.04, 0.04, 0.04, 0.04], \n",
    "                     [0.04, 0.04, 0.04, 0.04, 0.04]])\n",
    "kernel_b = np.array([[0.04, 0.04, 0.04, 0.04, 0.04], \n",
    "                     [0.04, 0.04, 0.04, 0.04, 0.04], \n",
    "                     [0.04, 0.04, 0.04, 0.04, 0.04], \n",
    "                     [0.04, 0.04, 0.04, 0.04, 0.04], \n",
    "                     [0.04, 0.04, 0.04, 0.04, 0.04]])\n",
    "convolved_image_r = scipy.signal.convolve2d(selected_image_r,kernel_r)\n",
    "convolved_image_g = scipy.signal.convolve2d(selected_image_g,kernel_g)\n",
    "convolved_image_b = scipy.signal.convolve2d(selected_image_b,kernel_b)\n",
    "for i in range(x_pixels):\n",
    "    for j in range(y_pixels):\n",
    "        convolved_image[i][j][0] = convolved_image_r[i][j]\n",
    "        convolved_image[i][j][1] = convolved_image_g[i][j]\n",
    "        convolved_image[i][j][2] = convolved_image_b[i][j]\n",
    "\n",
    "# And print it\n",
    "image = Image.fromarray(np.array(convolved_image, dtype=np.uint8), mode=\"RGB\")\n",
    "image.save('convolved.png')"
   ]
  },
  {
   "cell_type": "code",
   "execution_count": null,
   "id": "d3245355-e8f4-48ab-a03c-fd9c0ee4bb5b",
   "metadata": {},
   "outputs": [],
   "source": []
  }
 ],
 "metadata": {
  "kernelspec": {
   "display_name": "Python 3 (ipykernel)",
   "language": "python",
   "name": "python3"
  },
  "language_info": {
   "codemirror_mode": {
    "name": "ipython",
    "version": 3
   },
   "file_extension": ".py",
   "mimetype": "text/x-python",
   "name": "python",
   "nbconvert_exporter": "python",
   "pygments_lexer": "ipython3",
   "version": "3.11.3"
  }
 },
 "nbformat": 4,
 "nbformat_minor": 5
}
