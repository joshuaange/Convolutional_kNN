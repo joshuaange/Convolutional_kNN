{
 "cells": [
  {
   "cell_type": "code",
   "execution_count": 22,
   "id": "0b646b31-885d-47bf-bb35-2028aa3f6ea7",
   "metadata": {},
   "outputs": [],
   "source": [
    "import numpy as np\n",
    "from sklearn.model_selection import train_test_split\n",
    "from sklearn.metrics import confusion_matrix\n",
    "from sklearn.neighbors import NearestNeighbors\n",
    "from scipy import stats as st\n",
    "import matplotlib.pyplot as plt\n",
    "from PIL import Image\n",
    "import scipy"
   ]
  },
  {
   "cell_type": "code",
   "execution_count": 23,
   "id": "571032af-3afd-4d0a-9d7f-5bf37d790e65",
   "metadata": {},
   "outputs": [],
   "source": [
    "from sklearn.datasets import load_digits\n",
    "\n",
    "digits = load_digits()\n",
    "x = digits.data \n",
    "y = digits.target\n",
    "\n",
    "x_train, x_test, y_train, y_test = train_test_split(x, y, train_size=0.7, test_size=0.3)"
   ]
  },
  {
   "cell_type": "code",
   "execution_count": 24,
   "id": "080021d6-8f22-4d85-94d6-141d01c431c8",
   "metadata": {},
   "outputs": [
    {
     "name": "stdout",
     "output_type": "stream",
     "text": [
      "Picking 4 nearest neighbors, a total of 1257 training points with 64 dimensions\n"
     ]
    }
   ],
   "source": [
    "# kNN\n",
    "k=4\n",
    "model = NearestNeighbors(n_neighbors=k)\n",
    "model.fit(x_train,y_train)\n",
    "test_neighbors = model.kneighbors_graph(x_test)\n",
    "print(\"Picking \" + str(k) + \" nearest neighbors, a total of \" + str(x_train.shape[0]) + \" training points with \" + str(x_train.shape[1]) + \" dimensions\")"
   ]
  },
  {
   "cell_type": "code",
   "execution_count": 25,
   "id": "5a662d74-c4d9-48c3-9ce5-a8611332030c",
   "metadata": {},
   "outputs": [
    {
     "name": "stdout",
     "output_type": "stream",
     "text": [
      "Total number of test points: 540\n",
      "i=0\n",
      "i=50\n",
      "i=100\n",
      "i=150\n",
      "i=200\n",
      "i=250\n",
      "i=300\n",
      "i=350\n",
      "i=400\n",
      "i=450\n",
      "i=500\n",
      "Done!\n"
     ]
    }
   ],
   "source": [
    "# test_nearest_neighbors looks through test_neighbors and gets the classifications of the k nearest ones\n",
    "test_nearest_neighbors = np.empty((y_test.shape[0],k))\n",
    "# y_pred gets the mode of the nearest neighbors\n",
    "y_pred = np.empty((y_test.shape[0],1))\n",
    "\n",
    "print(\"Total number of test points: \" + str(x_test.shape[0]))\n",
    "for i in range(x_test.shape[0]):\n",
    "    if i%50 == 0:\n",
    "        print(\"i=\" + str(i))\n",
    "    test_nearest_neighbors[i] = y_train[np.nonzero(test_neighbors.toarray()[i])]\n",
    "    y_pred[i] = int(st.mode(test_nearest_neighbors[i], keepdims=True).mode)\n",
    "\n",
    "print(\"Done!\")"
   ]
  },
  {
   "cell_type": "code",
   "execution_count": 26,
   "id": "3dd24197-58dc-40f3-8655-4a51d63aa98f",
   "metadata": {},
   "outputs": [
    {
     "name": "stdout",
     "output_type": "stream",
     "text": [
      "[[53  0  0  0  0  0  0  0  0  0]\n",
      " [ 0 51  0  0  0  0  0  0  0  0]\n",
      " [ 0  0 54  0  0  0  0  0  0  0]\n",
      " [ 0  0  0 52  0  0  0  0  0  0]\n",
      " [ 0  0  0  0 55  0  0  1  0  0]\n",
      " [ 0  0  0  0  0 57  0  0  0  0]\n",
      " [ 0  0  0  0  0  0 63  0  0  0]\n",
      " [ 0  0  0  0  0  0  0 50  0  0]\n",
      " [ 0  2  0  0  0  0  0  0 48  0]\n",
      " [ 0  0  0  2  0  1  0  0  0 51]]\n",
      "Accuracy: 98.89%\n"
     ]
    }
   ],
   "source": [
    "conf_matrix = confusion_matrix(y_test, y_pred)\n",
    "print(conf_matrix)\n",
    "print(\"Accuracy: \" + str(np.round(100*conf_matrix.trace()/conf_matrix.sum(),2)) + \"%\")"
   ]
  },
  {
   "cell_type": "code",
   "execution_count": null,
   "id": "d3245355-e8f4-48ab-a03c-fd9c0ee4bb5b",
   "metadata": {},
   "outputs": [],
   "source": []
  },
  {
   "cell_type": "code",
   "execution_count": null,
   "id": "3d755071-e9b4-4689-b30d-20f69de6ed46",
   "metadata": {},
   "outputs": [],
   "source": []
  }
 ],
 "metadata": {
  "kernelspec": {
   "display_name": "Python 3 (ipykernel)",
   "language": "python",
   "name": "python3"
  },
  "language_info": {
   "codemirror_mode": {
    "name": "ipython",
    "version": 3
   },
   "file_extension": ".py",
   "mimetype": "text/x-python",
   "name": "python",
   "nbconvert_exporter": "python",
   "pygments_lexer": "ipython3",
   "version": "3.11.3"
  }
 },
 "nbformat": 4,
 "nbformat_minor": 5
}
