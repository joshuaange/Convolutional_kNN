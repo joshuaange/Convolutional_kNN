{
 "cells": [
  {
   "cell_type": "code",
   "execution_count": 1,
   "id": "0b646b31-885d-47bf-bb35-2028aa3f6ea7",
   "metadata": {},
   "outputs": [],
   "source": [
    "import numpy as np\n",
    "from sklearn.model_selection import train_test_split\n",
    "from sklearn.metrics import confusion_matrix\n",
    "from sklearn.neighbors import NearestNeighbors\n",
    "from scipy import stats as st\n",
    "import matplotlib.pyplot as plt\n",
    "from PIL import Image\n",
    "import scipy"
   ]
  },
  {
   "cell_type": "code",
   "execution_count": 13,
   "id": "465a4ddd-62f2-4067-aa68-51bb743c2ad4",
   "metadata": {},
   "outputs": [],
   "source": [
    "def h(x):\n",
    "    # Activation function, let's just use Relu\n",
    "    return np.maximum(0,x)\n",
    "\n",
    "def convolve(kernels, x_pixels, y_pixels, image_data, print_names = []):\n",
    "    x_pixels_convolved = x_pixels - kernels[0].shape[0] + 1 # new x pixels\n",
    "    y_pixels_convolved = y_pixels - kernels[0].shape[1] + 1 # new y pixels\n",
    "    channels_convolved = kernels.shape[0]                   # how many kernels and, hence, output channels\n",
    "\n",
    "    # of original image:\n",
    "    selected_image = np.empty((x_pixels,y_pixels))\n",
    "\n",
    "    index = 0\n",
    "    for i in range(x_pixels):\n",
    "        for j in range(y_pixels):\n",
    "            selected_image[i][j] = 255*image_data[index+0]\n",
    "            index += 1\n",
    "\n",
    "    if len(print_names) > 0:\n",
    "        image = Image.fromarray((selected_image).astype(np.uint8)).save(\"original.png\")\n",
    "\n",
    "    convolved_image = np.empty((channels_convolved,x_pixels_convolved,y_pixels_convolved))\n",
    "    # now let's cycle through each channel and apply appropriate kernels\n",
    "    for c in range(channels_convolved):\n",
    "        convolved_image_raw = scipy.signal.convolve2d(selected_image,kernels[c],mode='valid')\n",
    "            \n",
    "        for i in range(x_pixels_convolved):\n",
    "            for j in range(y_pixels_convolved):\n",
    "                convolved_image[c][i][j] = h(convolved_image_raw[i][j])  \n",
    "\n",
    "        if len(print_names) > 0:\n",
    "            cm = plt.get_cmap('bwr')\n",
    "            colored_image = cm(convolved_image[c]/255)\n",
    "            image = Image.fromarray((colored_image[:, :, :3] * 255).astype(np.uint8)).save(print_names[c])\n",
    "        \n",
    "    return convolved_image\n",
    "\n",
    "def max_pool(input_image, windowsize, print_names = []):\n",
    "    x_pixels = int(input_image[0].shape[0]/windowsize) # new x pixels\n",
    "    y_pixels = int(input_image[0].shape[1]/windowsize) # new y pixels\n",
    "    channels = int(input_image.shape[0])     # channels\n",
    "    \n",
    "    max_pooled_image = np.zeros((channels,x_pixels,y_pixels))\n",
    "    # now let's cycle through each channel and max pool\n",
    "    for c in range(channels):\n",
    "        for i in range(x_pixels):\n",
    "            for j in range(y_pixels):\n",
    "                sum = np.zeros((windowsize,windowsize))\n",
    "                for i2 in range(windowsize):\n",
    "                    for j2 in range(windowsize):\n",
    "                        sum[i2][j2] = input_image[c][windowsize*i + i2][windowsize*j + j2]\n",
    "                max_pooled_image[c][i][j] = np.max(sum)\n",
    "\n",
    "        if len(print_names) > 0:\n",
    "            cm = plt.get_cmap('bwr')\n",
    "            colored_image = cm(max_pooled_image[c]/255)\n",
    "            image = Image.fromarray((colored_image[:, :, :3] * 255).astype(np.uint8)).save(print_names[c])\n",
    "\n",
    "    return max_pooled_image"
   ]
  },
  {
   "cell_type": "code",
   "execution_count": 14,
   "id": "a33dde24-24aa-46b9-8174-f0d318fe3c4f",
   "metadata": {},
   "outputs": [
    {
     "name": "stdout",
     "output_type": "stream",
     "text": [
      "Total data points, x pixels, y pixels, color channels\n",
      "(1797, 8, 8)\n",
      "(540, 64)\n",
      "(1257, 64)\n"
     ]
    }
   ],
   "source": [
    "from sklearn.datasets import load_digits\n",
    "\n",
    "digits = load_digits()\n",
    "x = digits.data \n",
    "y = digits.target\n",
    "\n",
    "x_train, x_test, y_train, y_test = train_test_split(x, y, train_size=0.7, test_size=0.3)\n",
    "print(\"Total data points, x pixels, y pixels, color channels\")\n",
    "print(digits.images.shape)\n",
    "print(x_test.shape)\n",
    "print(x_train.shape)"
   ]
  },
  {
   "cell_type": "code",
   "execution_count": 15,
   "id": "c2ae13fa-e55e-4ef9-89a5-0062d216e4b8",
   "metadata": {},
   "outputs": [],
   "source": [
    "#convolve(kernels,8,8,x_train[20],[\"up.png\",\"side.png\",\"middle.png\"]);"
   ]
  },
  {
   "cell_type": "code",
   "execution_count": 8,
   "id": "bc1f1546-d3bc-48e2-9e48-91e13933f4af",
   "metadata": {},
   "outputs": [],
   "source": [
    "# Let's define some convolutions\n",
    "x_pixels = digits.images.shape[1]\n",
    "y_pixels = digits.images.shape[2]\n",
    "windowsize = 3\n",
    "number_of_kernels = 3\n",
    "kernels = np.empty((number_of_kernels,3,3))\n",
    "# first kernel\n",
    "kernels[0] = np.array([[1,1,1],\n",
    "                         [0,0,0],\n",
    "                         [-1, -1, -1]])\n",
    "# second kernel\n",
    "kernels[1] = np.array([[1, 0, -1],\n",
    "                         [1, 0, -1],\n",
    "                         [1, 0, -1]])\n",
    "# third kernel\n",
    "kernels[2] = np.array([[-1, -1, -1],\n",
    "                         [-1, 8, -1],\n",
    "                         [-1, -1, -1]])"
   ]
  },
  {
   "cell_type": "code",
   "execution_count": 39,
   "id": "e04e89f1-99dc-4b57-9fe5-562996a7375e",
   "metadata": {},
   "outputs": [
    {
     "name": "stdout",
     "output_type": "stream",
     "text": [
      "(3, 2, 2)\n",
      "Starting testing data\n",
      "0\n",
      "100\n",
      "200\n",
      "300\n",
      "400\n",
      "500\n",
      "Starting training data\n",
      "0\n",
      "100\n",
      "200\n",
      "300\n",
      "400\n",
      "500\n",
      "600\n",
      "700\n",
      "800\n",
      "900\n",
      "1000\n",
      "1100\n",
      "1200\n",
      "After convolutions:\n",
      "(1257, 12)\n",
      "(540, 12)\n"
     ]
    }
   ],
   "source": [
    "new_size = (max_pool(convolve(kernels, x_pixels, y_pixels, x_train[0]), windowsize).shape)\n",
    "print(new_size)\n",
    "\n",
    "x_train_new = np.empty((x_train.shape[0],(new_size[0]*new_size[1]*new_size[2])))\n",
    "x_test_new = np.empty((x_test.shape[0],(new_size[0]*new_size[1]*new_size[2])))\n",
    "\n",
    "print(\"Starting testing data\")\n",
    "for i in range(len(x_test)):\n",
    "    if i % 100 ==0:\n",
    "        print(i)\n",
    "    convolved_image = convolve(kernels, x_pixels, y_pixels, x_test[i])\n",
    "    x_test_new[i] = np.ravel(max_pool(convolved_image, windowsize))\n",
    "print(\"Starting training data\")\n",
    "for i in range(len(x_train)):\n",
    "    if i % 100 ==0:\n",
    "        print(i)\n",
    "    convolved_image = convolve(kernels, x_pixels, y_pixels, x_train[i])\n",
    "    x_train_new[i] = np.ravel(max_pool(convolved_image, windowsize))\n",
    "\n",
    "print(\"After convolutions:\")\n",
    "print(x_train_new.shape)\n",
    "print(x_test_new.shape)"
   ]
  },
  {
   "cell_type": "code",
   "execution_count": 40,
   "id": "5a662d74-c4d9-48c3-9ce5-a8611332030c",
   "metadata": {},
   "outputs": [
    {
     "name": "stdout",
     "output_type": "stream",
     "text": [
      "Picking 30 nearest neighbors, a total of 1257 training points with 12 dimensions\n",
      "Total number of test points: 540\n",
      "[[45  0  0  0  0  0  0  0  0  1]\n",
      " [ 1 43  2  3  1  1  7  0  1  0]\n",
      " [ 1  0 36  3  0  0  5  0  1  1]\n",
      " [ 6  0  1 31  1  1  0  1  3  3]\n",
      " [ 2  0  1  0 43  0  4  1  5  0]\n",
      " [ 0  2  0  4  6 32  8  0 10  2]\n",
      " [ 0  0  2  0  3  0 42  0  1  0]\n",
      " [ 4  1  0  0  4  0  0 40  2  1]\n",
      " [ 2  7  0  0 11  0  1  2 42  0]\n",
      " [ 7  1  1  1  4  2  0  0  5 35]]\n",
      "Accuracy: 72.04%\n",
      "Random: 0.1%\n"
     ]
    }
   ],
   "source": [
    "# kNN\n",
    "k=30\n",
    "model = NearestNeighbors(n_neighbors=k)\n",
    "model.fit(x_train_new,y_train)\n",
    "test_neighbors = model.kneighbors_graph(x_test_new)\n",
    "print(\"Picking \" + str(k) + \" nearest neighbors, a total of \" + str(x_train_new.shape[0]) + \" training points with \" + str(x_train_new.shape[1]) + \" dimensions\")\n",
    "\n",
    "# test_nearest_neighbors looks through test_neighbors and gets the classifications of the k nearest ones\n",
    "test_nearest_neighbors = np.empty((y_test.shape[0],k))\n",
    "# y_pred gets the mode of the nearest neighbors\n",
    "y_pred = np.empty((y_test.shape[0],1))\n",
    "\n",
    "print(\"Total number of test points: \" + str(x_test.shape[0]))\n",
    "for i in range(x_test_new.shape[0]):\n",
    "    test_nearest_neighbors[i] = y_train[np.nonzero(test_neighbors.toarray()[i])]\n",
    "    y_pred[i] = int(st.mode(test_nearest_neighbors[i], keepdims=True).mode)\n",
    "\n",
    "conf_matrix = confusion_matrix(y_test, y_pred)\n",
    "print(conf_matrix)\n",
    "print(\"Accuracy: \" + str(np.round(100*conf_matrix.trace()/conf_matrix.sum(),2)) + \"%\")\n",
    "print(\"Random: \" + str(np.round(1/conf_matrix.shape[0],5)) + \"%\")"
   ]
  },
  {
   "cell_type": "code",
   "execution_count": null,
   "id": "4a581f4c-e709-4736-b01c-523971b922d5",
   "metadata": {},
   "outputs": [],
   "source": []
  }
 ],
 "metadata": {
  "kernelspec": {
   "display_name": "Python 3 (ipykernel)",
   "language": "python",
   "name": "python3"
  },
  "language_info": {
   "codemirror_mode": {
    "name": "ipython",
    "version": 3
   },
   "file_extension": ".py",
   "mimetype": "text/x-python",
   "name": "python",
   "nbconvert_exporter": "python",
   "pygments_lexer": "ipython3",
   "version": "3.11.3"
  }
 },
 "nbformat": 4,
 "nbformat_minor": 5
}
