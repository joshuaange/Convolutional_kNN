{
 "cells": [
  {
   "cell_type": "code",
   "execution_count": 1,
   "id": "0b646b31-885d-47bf-bb35-2028aa3f6ea7",
   "metadata": {},
   "outputs": [],
   "source": [
    "import numpy as np\n",
    "from sklearn.model_selection import train_test_split\n",
    "from sklearn.metrics import confusion_matrix\n",
    "from sklearn.neighbors import NearestNeighbors\n",
    "from scipy import stats as st"
   ]
  },
  {
   "cell_type": "code",
   "execution_count": 2,
   "id": "571032af-3afd-4d0a-9d7f-5bf37d790e65",
   "metadata": {},
   "outputs": [],
   "source": [
    "# MNIST\n",
    "from sklearn.datasets import load_digits\n",
    "\n",
    "digits = load_digits()\n",
    "x = digits.data \n",
    "y = digits.target\n",
    "\n",
    "x_train, x_test, y_train, y_test = train_test_split(x, y, train_size=0.7, test_size=0.3)"
   ]
  },
  {
   "cell_type": "code",
   "execution_count": 60,
   "id": "080021d6-8f22-4d85-94d6-141d01c431c8",
   "metadata": {},
   "outputs": [],
   "source": [
    "# kNN\n",
    "k=6\n",
    "model = NearestNeighbors(n_neighbors=k)\n",
    "model.fit(x_train,y_train)\n",
    "test_neighbors = model.kneighbors_graph(x_test)"
   ]
  },
  {
   "cell_type": "code",
   "execution_count": 50,
   "id": "7b83f431-1813-4fe6-952f-1f30b1f78cd3",
   "metadata": {},
   "outputs": [
    {
     "name": "stdout",
     "output_type": "stream",
     "text": [
      "Total number of test points: 540\n",
      "i=0\n",
      "i=50\n",
      "i=100\n",
      "i=150\n",
      "i=200\n",
      "i=250\n",
      "i=300\n",
      "i=350\n",
      "i=400\n",
      "i=450\n",
      "i=500\n"
     ]
    }
   ],
   "source": [
    "# Slower Method\n",
    "# test_nearest_neighbors looks through test_neighbors and gets the classifications of the k nearest ones\n",
    "test_nearest_neighbors = np.empty((y_test.shape[0],k))\n",
    "# y_pred gets the mode of the nearest neighbors\n",
    "y_pred = np.empty((y_test.shape[0],1))\n",
    "\n",
    "print(\"Total number of test points: \" + str(x_test.shape[0]))\n",
    "for i in range(x_test.shape[0]):\n",
    "    if i%50 == 0:\n",
    "        print(\"i=\" + str(i))\n",
    "    n = 0\n",
    "    for j in range(x_train.shape[0]):\n",
    "        if test_neighbors.toarray()[i][j] > 0:\n",
    "            test_nearest_neighbors[i][n] = y_train[j]\n",
    "            n += 1\n",
    "    y_pred[i] = int(st.mode(test_nearest_neighbors[i], keepdims=True).mode)"
   ]
  },
  {
   "cell_type": "code",
   "execution_count": 61,
   "id": "bf61b115-7bf8-43e4-8bad-bb3126c78696",
   "metadata": {},
   "outputs": [
    {
     "name": "stdout",
     "output_type": "stream",
     "text": [
      "Total number of test points: 540\n",
      "i=0\n",
      "i=50\n",
      "i=100\n",
      "i=150\n",
      "i=200\n",
      "i=250\n",
      "i=300\n",
      "i=350\n",
      "i=400\n",
      "i=450\n",
      "i=500\n",
      "Done!\n"
     ]
    }
   ],
   "source": [
    "# Faster method\n",
    "# test_nearest_neighbors looks through test_neighbors and gets the classifications of the k nearest ones\n",
    "test_nearest_neighbors = np.empty((y_test.shape[0],k))\n",
    "# y_pred gets the mode of the nearest neighbors\n",
    "y_pred = np.empty((y_test.shape[0],1))\n",
    "\n",
    "print(\"Total number of test points: \" + str(x_test.shape[0]))\n",
    "for i in range(x_test.shape[0]):\n",
    "    if i%50 == 0:\n",
    "        print(\"i=\" + str(i))\n",
    "    test_nearest_neighbors[i] = y_train[np.nonzero(test_neighbors.toarray()[i])]\n",
    "    y_pred[i] = int(st.mode(test_nearest_neighbors[i], keepdims=True).mode)\n",
    "\n",
    "print(\"Done!\")"
   ]
  },
  {
   "cell_type": "code",
   "execution_count": 62,
   "id": "3dd24197-58dc-40f3-8655-4a51d63aa98f",
   "metadata": {},
   "outputs": [
    {
     "name": "stdout",
     "output_type": "stream",
     "text": [
      "[[50  0  0  0  0  0  0  0  0  0]\n",
      " [ 0 50  0  0  0  0  0  0  0  0]\n",
      " [ 1  0 62  0  0  0  0  0  0  0]\n",
      " [ 0  0  0 53  0  0  0  0  0  0]\n",
      " [ 0  0  0  0 59  0  0  1  0  0]\n",
      " [ 0  0  0  0  0 46  1  0  0  0]\n",
      " [ 0  0  0  0  0  0 61  0  0  0]\n",
      " [ 0  0  0  0  0  0  0 59  0  0]\n",
      " [ 0  1  0  0  0  0  0  1 44  0]\n",
      " [ 0  0  0  1  1  1  0  0  1 47]]\n",
      "Accuracy: 98.33%\n"
     ]
    }
   ],
   "source": [
    "conf_matrix = confusion_matrix(y_test, y_pred)\n",
    "print(conf_matrix)\n",
    "print(\"Accuracy: \" + str(np.round(100*conf_matrix.trace()/conf_matrix.sum(),2)) + \"%\")"
   ]
  },
  {
   "cell_type": "code",
   "execution_count": null,
   "id": "1661b032-3cbb-45bf-9c51-3145a123f9d8",
   "metadata": {},
   "outputs": [],
   "source": []
  }
 ],
 "metadata": {
  "kernelspec": {
   "display_name": "Python 3 (ipykernel)",
   "language": "python",
   "name": "python3"
  },
  "language_info": {
   "codemirror_mode": {
    "name": "ipython",
    "version": 3
   },
   "file_extension": ".py",
   "mimetype": "text/x-python",
   "name": "python",
   "nbconvert_exporter": "python",
   "pygments_lexer": "ipython3",
   "version": "3.11.3"
  }
 },
 "nbformat": 4,
 "nbformat_minor": 5
}
