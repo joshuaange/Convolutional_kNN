{
 "cells": [
  {
   "cell_type": "code",
   "execution_count": 1,
   "id": "0b646b31-885d-47bf-bb35-2028aa3f6ea7",
   "metadata": {},
   "outputs": [],
   "source": [
    "import numpy as np\n",
    "from sklearn.model_selection import train_test_split\n",
    "from sklearn.metrics import confusion_matrix\n",
    "from sklearn.neighbors import NearestNeighbors\n",
    "from scipy import stats as st\n",
    "import matplotlib.pyplot as plt\n",
    "from PIL import Image\n",
    "import scipy"
   ]
  },
  {
   "cell_type": "code",
   "execution_count": 2,
   "id": "4185f362-2b0f-4676-a703-ff798e697658",
   "metadata": {},
   "outputs": [],
   "source": [
    "def convolve_test(kernel_r, kernel_g, kernel_b, x_pixels, y_pixels, image_data, color=True):\n",
    "    # Read in data as different arrays\n",
    "    selected_image = np.empty((x_pixels,y_pixels,3)) # all channels\n",
    "    selected_image_bw = np.empty((x_pixels,y_pixels))# luminosity\n",
    "    selected_image_r = np.empty((x_pixels,y_pixels)) # red channel\n",
    "    selected_image_g = np.empty((x_pixels,y_pixels)) # blue channel\n",
    "    selected_image_b = np.empty((x_pixels,y_pixels)) # green channel\n",
    "\n",
    "    index = 0\n",
    "    for i in range(x_pixels):\n",
    "        for j in range(y_pixels):\n",
    "            selected_image_r[i][j] = 255*image_data[index+0]\n",
    "            selected_image_g[i][j] = 255*image_data[index+1]\n",
    "            selected_image_b[i][j] = 255*image_data[index+2]\n",
    "            selected_image[i][j][0] = 255*image_data[index+0]\n",
    "            selected_image[i][j][1] = 255*image_data[index+1]\n",
    "            selected_image[i][j][2] = 255*image_data[index+2]\n",
    "            selected_image_bw[i][j] = 0.3*selected_image[i][j][0] + 0.59*selected_image[i][j][1] + 0.11*selected_image[i][j][2]\n",
    "            index += 3\n",
    "\n",
    "    # And print it\n",
    "    image = Image.fromarray(np.array(selected_image, dtype=np.uint8), mode=\"RGB\")\n",
    "    image.save('original.png')\n",
    "    image = Image.fromarray(np.array(selected_image_bw, dtype=np.uint8), mode=\"P\")\n",
    "    image.save('original_bw.png')\n",
    "\n",
    "    convolved_image = np.empty((x_pixels,y_pixels,3)) # all channels\n",
    "    convolved_image_bw = np.empty((x_pixels,y_pixels)) # black and white\n",
    "    convolved_image_difference = np.empty((x_pixels,y_pixels)) # difference between bw and original\n",
    "    convolved_image_r = scipy.signal.convolve2d(selected_image_r,kernel_r) # red channel\n",
    "    convolved_image_g = scipy.signal.convolve2d(selected_image_g,kernel_g) # blue channel\n",
    "    convolved_image_b = scipy.signal.convolve2d(selected_image_b,kernel_b) # green channel\n",
    "    bias_r = 1 - np.sum(kernel_r) \n",
    "    bias_g = 1 - np.sum(kernel_g) # bias terms if the kernel doesn't add up to 1\n",
    "    bias_b = 1 - np.sum(kernel_b)\n",
    "        \n",
    "    for i in range(x_pixels):\n",
    "        for j in range(y_pixels):\n",
    "            convolved_image[i][j][0] = convolved_image_r[i][j]+bias_r\n",
    "            convolved_image[i][j][1] = convolved_image_g[i][j]+bias_g\n",
    "            convolved_image[i][j][2] = convolved_image_b[i][j]+bias_b\n",
    "            convolved_image_bw[i][j] = 0.3*convolved_image[i][j][0] + 0.59*convolved_image[i][j][1] + 0.11*convolved_image[i][j][2]\n",
    "    \n",
    "    image = Image.fromarray(np.array(convolved_image, dtype=np.uint8), mode=\"RGB\")\n",
    "    image.save('convolved.png')\n",
    "    image = Image.fromarray(np.array(convolved_image_bw, dtype=np.uint8), mode=\"P\")\n",
    "    image.save('convolved_bw.png')\n",
    "    convolved_image_difference = np.abs(np.add(convolved_image_bw,-1*selected_image_bw))\n",
    "    image = Image.fromarray(np.array(convolved_image_difference, dtype=np.uint8), mode=\"P\")\n",
    "    image.save('convolved_difference.png')"
   ]
  },
  {
   "cell_type": "code",
   "execution_count": 30,
   "id": "afb73322-a217-4ce9-961d-1a8f81647c04",
   "metadata": {},
   "outputs": [],
   "source": [
    "def h(x): # ReLU\n",
    "    y = np.maximum(0,x)\n",
    "    return y\n",
    "\n",
    "def convolve_layer(kernel_r, kernel_g, kernel_b, x_pixels, y_pixels, image_data, color=True):\n",
    "    # Read in data in different channels\n",
    "    selected_image_r = np.empty((x_pixels,y_pixels)) # red channel\n",
    "    selected_image_g = np.empty((x_pixels,y_pixels)) # blue channel\n",
    "    selected_image_b = np.empty((x_pixels,y_pixels)) # green channel\n",
    "\n",
    "    index = 0\n",
    "    for i in range(x_pixels):\n",
    "        for j in range(y_pixels):\n",
    "            selected_image_r[i][j] = 255*image_data[index+0]\n",
    "            selected_image_g[i][j] = 255*image_data[index+1]\n",
    "            selected_image_b[i][j] = 255*image_data[index+2]\n",
    "            index += 3\n",
    "\n",
    "    # Convolution, only valid entries - this reduces the dimensionality\n",
    "    # following https://saturncloud.io/blog/a-comprehensive-guide-to-convolutional-neural-networks-the-eli5-way/\n",
    "    convolved_image_r = scipy.signal.convolve2d(selected_image_r,kernel_r,mode='valid') # red channel\n",
    "    convolved_image_g = scipy.signal.convolve2d(selected_image_g,kernel_g,mode='valid') # blue channel\n",
    "    convolved_image_b = scipy.signal.convolve2d(selected_image_b,kernel_b,mode='valid') # green channel\n",
    "    x_pixels_convolved = convolved_image_r.shape[0]\n",
    "    y_pixels_convolved = convolved_image_r.shape[1]\n",
    "    convolved_image = np.empty((x_pixels_convolved,y_pixels_convolved))\n",
    "        \n",
    "    for i in range(x_pixels_convolved):\n",
    "        for j in range(y_pixels_convolved):\n",
    "            convolved_image[i][j] = h(0.3*convolved_image_r[i][j] + 0.59*convolved_image_g[i][j] + 0.11*convolved_image_b[i][j])\n",
    "\n",
    "    image = Image.fromarray(np.array(convolved_image, dtype=np.uint8), mode=\"P\")\n",
    "    image.save('convolved.png')\n",
    "    return np.ravel(convolved_image)"
   ]
  },
  {
   "cell_type": "code",
   "execution_count": 31,
   "id": "571032af-3afd-4d0a-9d7f-5bf37d790e65",
   "metadata": {},
   "outputs": [
    {
     "name": "stdout",
     "output_type": "stream",
     "text": [
      "Total data points, x pixels, y pixels, color channels\n",
      "(4503, 62, 47, 3)\n",
      "(3377, 8742)\n",
      "(1126, 8742)\n"
     ]
    }
   ],
   "source": [
    "from sklearn.datasets import fetch_lfw_people\n",
    "color = True\n",
    "people = fetch_lfw_people(min_faces_per_person=8, resize=0.5, color=color)\n",
    "\n",
    "x = people.data \n",
    "y = people.target\n",
    "\n",
    "x_train, x_test, y_train, y_test = train_test_split(x, y, train_size=0.75)\n",
    "\n",
    "print(\"Total data points, x pixels, y pixels, color channels\")\n",
    "print(people.images.shape)\n",
    "print(x_train.shape)\n",
    "print(x_test.shape)"
   ]
  },
  {
   "cell_type": "code",
   "execution_count": null,
   "id": "a4db2dfe-33b4-4e28-bbe1-be5d4b79a7f5",
   "metadata": {},
   "outputs": [
    {
     "name": "stdout",
     "output_type": "stream",
     "text": [
      "Starting testing data\n",
      "0\n",
      "250\n",
      "500\n",
      "750\n",
      "1000\n",
      "Starting training data\n",
      "0\n",
      "250\n",
      "500\n",
      "750\n"
     ]
    }
   ],
   "source": [
    "# Let's do the convolutions\n",
    "x_pixels = people.images.shape[1]\n",
    "y_pixels = people.images.shape[2]\n",
    "#kernel = np.array([[-1, -1, -1, -1, -1],\n",
    "#                   [-1, -1, -1, -1, -1],\n",
    "#                   [-1, -1, 25, -1, -1],\n",
    "#                   [-1, -1, -1, -1, -1],\n",
    "#                   [-1, -1, -1, -1, -1],])\n",
    "kernel = np.array([[-1, -1, -1],\n",
    "                   [-1,  8, -1],\n",
    "                   [-1, -1, -1]])\n",
    "\n",
    "new_dimensionality = int((x_train.shape[1]/3) - (kernel.shape[0]-1)*people.images.shape[1] - (kernel.shape[0]-1)*people.images.shape[2] + 4*((kernel.shape[0]-1)/2)**2)\n",
    "\n",
    "x_train_new = np.empty((x_train.shape[0],new_dimensionality))\n",
    "x_test_new = np.empty((x_test.shape[0],new_dimensionality))\n",
    "print(\"Starting testing data\")\n",
    "for i in range(len(x_test)):\n",
    "    if i % 250 ==0:\n",
    "        print(i)\n",
    "    x_test_new[i] = convolve_layer(kernel, kernel, kernel, x_pixels, y_pixels, x_train[i])\n",
    "print(\"Starting training data\")\n",
    "for i in range(len(x_train)):\n",
    "    if i % 250 ==0:\n",
    "        print(i)\n",
    "    x_train_new[i] = convolve_layer(kernel, kernel, kernel, x_pixels, y_pixels, x_train[i])\n",
    "\n",
    "# we should do a max pool\n",
    "\n",
    "print(\"After convolutions:\")\n",
    "print(x_train_new.shape)\n",
    "print(x_test_new.shape)"
   ]
  },
  {
   "cell_type": "code",
   "execution_count": 39,
   "id": "080021d6-8f22-4d85-94d6-141d01c431c8",
   "metadata": {},
   "outputs": [
    {
     "name": "stdout",
     "output_type": "stream",
     "text": [
      "Picking 100 nearest neighbors, a total of 3377 training points with 2700 dimensions\n"
     ]
    }
   ],
   "source": [
    "# kNN\n",
    "k=100\n",
    "model = NearestNeighbors(n_neighbors=k)\n",
    "model.fit(x_train_new,y_train)\n",
    "test_neighbors = model.kneighbors_graph(x_test_new)\n",
    "print(\"Picking \" + str(k) + \" nearest neighbors, a total of \" + str(x_train_new.shape[0]) + \" training points with \" + str(x_train_new.shape[1]) + \" dimensions\")"
   ]
  },
  {
   "cell_type": "code",
   "execution_count": 40,
   "id": "5a662d74-c4d9-48c3-9ce5-a8611332030c",
   "metadata": {},
   "outputs": [
    {
     "name": "stdout",
     "output_type": "stream",
     "text": [
      "Total number of test points: 1126\n",
      "i=0\n",
      "i=50\n",
      "i=100\n",
      "i=150\n",
      "i=200\n",
      "i=250\n",
      "i=300\n",
      "i=350\n",
      "i=400\n",
      "i=450\n",
      "i=500\n",
      "i=550\n",
      "i=600\n",
      "i=650\n",
      "i=700\n",
      "i=750\n",
      "i=800\n",
      "i=850\n",
      "i=900\n",
      "i=950\n",
      "i=1000\n",
      "i=1050\n",
      "i=1100\n",
      "Done!\n"
     ]
    }
   ],
   "source": [
    "# test_nearest_neighbors looks through test_neighbors and gets the classifications of the k nearest ones\n",
    "test_nearest_neighbors = np.empty((y_test.shape[0],k))\n",
    "# y_pred gets the mode of the nearest neighbors\n",
    "y_pred = np.empty((y_test.shape[0],1))\n",
    "\n",
    "print(\"Total number of test points: \" + str(x_test.shape[0]))\n",
    "for i in range(x_test_new.shape[0]):\n",
    "    if i%50 == 0:\n",
    "        print(\"i=\" + str(i))\n",
    "    test_nearest_neighbors[i] = y_train[np.nonzero(test_neighbors.toarray()[i])]\n",
    "    y_pred[i] = int(st.mode(test_nearest_neighbors[i], keepdims=True).mode)\n",
    "\n",
    "print(\"Done!\")"
   ]
  },
  {
   "cell_type": "code",
   "execution_count": 41,
   "id": "3dd24197-58dc-40f3-8655-4a51d63aa98f",
   "metadata": {},
   "outputs": [
    {
     "name": "stdout",
     "output_type": "stream",
     "text": [
      "[[0 0 0 ... 0 0 0]\n",
      " [0 0 0 ... 0 0 0]\n",
      " [0 0 0 ... 0 0 0]\n",
      " ...\n",
      " [0 0 0 ... 0 0 0]\n",
      " [0 0 0 ... 0 0 0]\n",
      " [0 0 0 ... 0 0 0]]\n",
      "Accuracy: 12.7%\n"
     ]
    }
   ],
   "source": [
    "conf_matrix = confusion_matrix(y_test, y_pred)\n",
    "print(conf_matrix)\n",
    "print(\"Accuracy: \" + str(np.round(100*conf_matrix.trace()/conf_matrix.sum(),2)) + \"%\")"
   ]
  },
  {
   "cell_type": "code",
   "execution_count": null,
   "id": "d3245355-e8f4-48ab-a03c-fd9c0ee4bb5b",
   "metadata": {},
   "outputs": [],
   "source": []
  },
  {
   "cell_type": "code",
   "execution_count": null,
   "id": "3d755071-e9b4-4689-b30d-20f69de6ed46",
   "metadata": {},
   "outputs": [],
   "source": []
  }
 ],
 "metadata": {
  "kernelspec": {
   "display_name": "Python 3 (ipykernel)",
   "language": "python",
   "name": "python3"
  },
  "language_info": {
   "codemirror_mode": {
    "name": "ipython",
    "version": 3
   },
   "file_extension": ".py",
   "mimetype": "text/x-python",
   "name": "python",
   "nbconvert_exporter": "python",
   "pygments_lexer": "ipython3",
   "version": "3.11.3"
  }
 },
 "nbformat": 4,
 "nbformat_minor": 5
}
