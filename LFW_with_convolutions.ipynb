{
 "cells": [
  {
   "cell_type": "code",
   "execution_count": 71,
   "id": "0b646b31-885d-47bf-bb35-2028aa3f6ea7",
   "metadata": {},
   "outputs": [],
   "source": [
    "import numpy as np\n",
    "from sklearn.model_selection import train_test_split\n",
    "from sklearn.metrics import confusion_matrix\n",
    "from sklearn.neighbors import NearestNeighbors\n",
    "from scipy import stats as st\n",
    "import matplotlib.pyplot as plt\n",
    "from PIL import Image\n",
    "import scipy"
   ]
  },
  {
   "cell_type": "code",
   "execution_count": 116,
   "id": "465a4ddd-62f2-4067-aa68-51bb743c2ad4",
   "metadata": {},
   "outputs": [],
   "source": [
    "def h(x):\n",
    "    # Activation function, let's just use Relu\n",
    "    return np.maximum(0,x)\n",
    "\n",
    "def convolve(kernels_r, kernels_g, kernels_b, x_pixels, y_pixels, image_data, print_names = []):\n",
    "    x_pixels_convolved = x_pixels - kernels_r[0].shape[0] + 1 # new x pixels\n",
    "    y_pixels_convolved = y_pixels - kernels_r[0].shape[1] + 1 # new y pixels\n",
    "    channels_convolved = kernels_r.shape[0]                   # how many kernels and, hence, output channels\n",
    "\n",
    "    # of original image:\n",
    "    selected_image_r = np.empty((x_pixels,y_pixels)) # red channel\n",
    "    selected_image_g = np.empty((x_pixels,y_pixels)) # blue channel\n",
    "    selected_image_b = np.empty((x_pixels,y_pixels)) # green channel\n",
    "\n",
    "    index = 0\n",
    "    for i in range(x_pixels):\n",
    "        for j in range(y_pixels):\n",
    "            selected_image_r[i][j] = 255*image_data[index+0]\n",
    "            selected_image_g[i][j] = 255*image_data[index+1]\n",
    "            selected_image_b[i][j] = 255*image_data[index+2]\n",
    "            index += 3\n",
    "\n",
    "    convolved_image = np.empty((channels_convolved,x_pixels_convolved,y_pixels_convolved))\n",
    "    # now let's cycle through each channel and apply appropriate kernels\n",
    "    for c in range(channels_convolved):\n",
    "        convolved_image_r = scipy.signal.convolve2d(selected_image_r,kernels_r[c],mode='valid') # red channel\n",
    "        convolved_image_g = scipy.signal.convolve2d(selected_image_g,kernels_g[c],mode='valid') # blue channel\n",
    "        convolved_image_b = scipy.signal.convolve2d(selected_image_b,kernels_b[c],mode='valid') # green channel\n",
    "            \n",
    "        for i in range(x_pixels_convolved):\n",
    "            for j in range(y_pixels_convolved):\n",
    "                convolved_image[c][i][j] = h(convolved_image_r[i][j] + convolved_image_g[i][j] + convolved_image_b[i][j] + 1)  \n",
    "\n",
    "        if len(print_names) > 0:\n",
    "            cm = plt.get_cmap('bwr')\n",
    "            colored_image = cm(convolved_image[c]/255)\n",
    "            image = Image.fromarray((colored_image[:, :, :3] * 255).astype(np.uint8)).save(print_names[c])\n",
    "        \n",
    "    return convolved_image\n",
    "\n",
    "def max_pool(input_image, windowsize, print_names = []):\n",
    "    x_pixels = int(input_image[0].shape[0]/windowsize) # new x pixels\n",
    "    y_pixels = int(input_image[0].shape[1]/windowsize) # new y pixels\n",
    "    channels = int(input_image.shape[0])     # channels\n",
    "    \n",
    "    max_pooled_image = np.zeros((channels,x_pixels,y_pixels))\n",
    "    # now let's cycle through each channel and max pool\n",
    "    for c in range(channels):\n",
    "        for i in range(x_pixels):\n",
    "            for j in range(y_pixels):\n",
    "                sum = np.zeros((windowsize,windowsize))\n",
    "                for i2 in range(windowsize):\n",
    "                    for j2 in range(windowsize):\n",
    "                        sum[i2][j2] = input_image[c][windowsize*i + i2][windowsize*j + j2]\n",
    "                max_pooled_image[c][i][j] = np.max(sum)\n",
    "\n",
    "        if len(print_names) > 0:\n",
    "            cm = plt.get_cmap('bwr')\n",
    "            colored_image = cm(max_pooled_image[c]/255)\n",
    "            image = Image.fromarray((colored_image[:, :, :3] * 255).astype(np.uint8)).save(print_names[c])\n",
    "\n",
    "    return max_pooled_image"
   ]
  },
  {
   "cell_type": "code",
   "execution_count": 25,
   "id": "571032af-3afd-4d0a-9d7f-5bf37d790e65",
   "metadata": {},
   "outputs": [
    {
     "name": "stdout",
     "output_type": "stream",
     "text": [
      "Total data points, x pixels, y pixels, color channels\n",
      "(4503, 125, 94, 3)\n",
      "(3377, 35250)\n",
      "(1126, 35250)\n"
     ]
    }
   ],
   "source": [
    "from sklearn.datasets import fetch_lfw_people\n",
    "color = True\n",
    "people = fetch_lfw_people(min_faces_per_person=8, resize=1, color=color)\n",
    "\n",
    "x = people.data \n",
    "y = people.target\n",
    "\n",
    "x_train, x_test, y_train, y_test = train_test_split(x, y, train_size=0.75)\n",
    "\n",
    "print(\"Total data points, x pixels, y pixels, color channels\")\n",
    "print(people.images.shape)\n",
    "print(x_train.shape)\n",
    "print(x_test.shape)"
   ]
  },
  {
   "cell_type": "code",
   "execution_count": 118,
   "id": "a4db2dfe-33b4-4e28-bbe1-be5d4b79a7f5",
   "metadata": {},
   "outputs": [
    {
     "name": "stdout",
     "output_type": "stream",
     "text": [
      "(3, 123, 92)\n",
      "(3, 41, 30)\n"
     ]
    }
   ],
   "source": [
    "# Let's do the convolutions - test!\n",
    "x_pixels = people.images.shape[1]\n",
    "y_pixels = people.images.shape[2]\n",
    "kernels_r = np.empty((3,3,3))\n",
    "kernels_g = np.empty((3,3,3))\n",
    "kernels_b = np.empty((3,3,3))\n",
    "# up\n",
    "kernels_r[0]=np.array([[1, 1, 1],\n",
    "                       [ 0,  0,  0],\n",
    "                       [-1, -1, -1]])\n",
    "kernels_g[0]=np.array([[1, 1, 1],\n",
    "                       [ 0,  0,  0],\n",
    "                       [-1, -1, -1]])\n",
    "kernels_b[0]=np.array([[1, 1, 1],\n",
    "                       [ 0,  0,  0],\n",
    "                       [-1, -1, -1]])\n",
    "# right\n",
    "kernels_r[1]=np.array([[-1, 0, 1],\n",
    "                       [-1, 0, 1],\n",
    "                       [-1, 0, 1]])\n",
    "kernels_g[1]=np.array([[-1, 0, 1],\n",
    "                       [-1, 0, 1],\n",
    "                       [-1, 0, 1]])\n",
    "kernels_b[1]=np.array([[-1, 0, 1],\n",
    "                       [-1, 0, 1],\n",
    "                       [-1, 0, 1]])\n",
    "# test\n",
    "kernels_r[2]=np.array([[1, -1, 1],\n",
    "                       [-1, 0, -1],\n",
    "                       [1, -1, 1]])\n",
    "kernels_g[2]=np.array([[1, -1, 1],\n",
    "                       [-1, 0, -1],\n",
    "                       [1, -1, 1]])\n",
    "kernels_b[2]=np.array([[1, -1, 1],\n",
    "                       [-1, 0, -1],\n",
    "                       [1, -1, 1]])\n",
    "\n",
    "image_names = [\"convolved_up.png\",\"convolved_right.png\", \"convolved_test.png\"]\n",
    "\n",
    "convolved_image = convolve(kernels_r, kernels_g, kernels_b, x_pixels, y_pixels, x_train[30], image_names)\n",
    "pooled_image = max_pool(convolved_image, 3)\n",
    "\n",
    "print(convolved_image.shape)\n",
    "print(pooled_image.shape)\n"
   ]
  },
  {
   "cell_type": "code",
   "execution_count": 37,
   "id": "080021d6-8f22-4d85-94d6-141d01c431c8",
   "metadata": {},
   "outputs": [
    {
     "name": "stdout",
     "output_type": "stream",
     "text": [
      "Picking 100 nearest neighbors, a total of 3377 training points with 660 dimensions\n"
     ]
    }
   ],
   "source": [
    "# kNN\n",
    "k=100\n",
    "model = NearestNeighbors(n_neighbors=k)\n",
    "model.fit(x_train_new,y_train)\n",
    "test_neighbors = model.kneighbors_graph(x_test_new)\n",
    "print(\"Picking \" + str(k) + \" nearest neighbors, a total of \" + str(x_train_new.shape[0]) + \" training points with \" + str(x_train_new.shape[1]) + \" dimensions\")"
   ]
  },
  {
   "cell_type": "code",
   "execution_count": 38,
   "id": "5a662d74-c4d9-48c3-9ce5-a8611332030c",
   "metadata": {},
   "outputs": [
    {
     "name": "stdout",
     "output_type": "stream",
     "text": [
      "Total number of test points: 1126\n",
      "i=0\n",
      "i=50\n",
      "i=100\n",
      "i=150\n",
      "i=200\n",
      "i=250\n",
      "i=300\n",
      "i=350\n",
      "i=400\n",
      "i=450\n",
      "i=500\n",
      "i=550\n",
      "i=600\n",
      "i=650\n",
      "i=700\n",
      "i=750\n",
      "i=800\n",
      "i=850\n",
      "i=900\n",
      "i=950\n",
      "i=1000\n",
      "i=1050\n",
      "i=1100\n",
      "Done!\n"
     ]
    }
   ],
   "source": [
    "# test_nearest_neighbors looks through test_neighbors and gets the classifications of the k nearest ones\n",
    "test_nearest_neighbors = np.empty((y_test.shape[0],k))\n",
    "# y_pred gets the mode of the nearest neighbors\n",
    "y_pred = np.empty((y_test.shape[0],1))\n",
    "\n",
    "print(\"Total number of test points: \" + str(x_test.shape[0]))\n",
    "for i in range(x_test_new.shape[0]):\n",
    "    if i%50 == 0:\n",
    "        print(\"i=\" + str(i))\n",
    "    test_nearest_neighbors[i] = y_train[np.nonzero(test_neighbors.toarray()[i])]\n",
    "    y_pred[i] = int(st.mode(test_nearest_neighbors[i], keepdims=True).mode)\n",
    "\n",
    "print(\"Done!\")"
   ]
  },
  {
   "cell_type": "code",
   "execution_count": 39,
   "id": "3dd24197-58dc-40f3-8655-4a51d63aa98f",
   "metadata": {},
   "outputs": [
    {
     "name": "stdout",
     "output_type": "stream",
     "text": [
      "[[0 0 0 ... 0 0 0]\n",
      " [0 0 0 ... 0 0 0]\n",
      " [0 0 0 ... 0 0 0]\n",
      " ...\n",
      " [0 0 0 ... 0 0 0]\n",
      " [0 0 0 ... 0 0 0]\n",
      " [0 0 0 ... 0 0 0]]\n",
      "Accuracy: 11.1%\n"
     ]
    }
   ],
   "source": [
    "conf_matrix = confusion_matrix(y_test, y_pred)\n",
    "print(conf_matrix)\n",
    "print(\"Accuracy: \" + str(np.round(100*conf_matrix.trace()/conf_matrix.sum(),2)) + \"%\")"
   ]
  },
  {
   "cell_type": "code",
   "execution_count": null,
   "id": "d3245355-e8f4-48ab-a03c-fd9c0ee4bb5b",
   "metadata": {},
   "outputs": [],
   "source": []
  },
  {
   "cell_type": "code",
   "execution_count": null,
   "id": "3d755071-e9b4-4689-b30d-20f69de6ed46",
   "metadata": {},
   "outputs": [],
   "source": []
  }
 ],
 "metadata": {
  "kernelspec": {
   "display_name": "Python 3 (ipykernel)",
   "language": "python",
   "name": "python3"
  },
  "language_info": {
   "codemirror_mode": {
    "name": "ipython",
    "version": 3
   },
   "file_extension": ".py",
   "mimetype": "text/x-python",
   "name": "python",
   "nbconvert_exporter": "python",
   "pygments_lexer": "ipython3",
   "version": "3.11.3"
  }
 },
 "nbformat": 4,
 "nbformat_minor": 5
}
